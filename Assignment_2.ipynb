{
 "cells": [
  {
   "cell_type": "code",
   "execution_count": null,
   "id": "966628fc",
   "metadata": {},
   "outputs": [],
   "source": [
    "Number 1 -\n",
    "\n",
    "Question -\n",
    "What are the two values of the Boolean data type? How do you write them?\n",
    "\n",
    "Answer -\n",
    "True and False, using capital T and F, with the rest of the word in lowercase"
   ]
  },
  {
   "cell_type": "code",
   "execution_count": null,
   "id": "1bd0627b",
   "metadata": {},
   "outputs": [],
   "source": [
    "Number 2 -\n",
    "\n",
    "Question -\n",
    "What are the three different types of Boolean operators?\n",
    "\n",
    "Answer -\n",
    "and, or, and not"
   ]
  },
  {
   "cell_type": "code",
   "execution_count": null,
   "id": "40e284a3",
   "metadata": {},
   "outputs": [],
   "source": [
    "Number 3 -\n",
    "\n",
    "Question -\n",
    "Write out the truth tables of each Boolean operator (that is, every possible combination of Boolean values for the operator and what they evaluate to).\n",
    "\n",
    "Answer -\n",
    "True and True is True.\n",
    "True and False is False.\n",
    "False and True is False.\n",
    "False and False is False.\n",
    "True or True is True.\n",
    "True or False is True.\n",
    "False or True is True.\n",
    "False or False is False.\n",
    "not True is False.\n",
    "not False is True."
   ]
  },
  {
   "cell_type": "code",
   "execution_count": null,
   "id": "52f5e901",
   "metadata": {},
   "outputs": [],
   "source": [
    "Number 4 -\n",
    "\n",
    "Question -\n",
    "What do the following expressions evaluate to?\n",
    "\n",
    "(5 > 4) and (3 == 5)\n",
    "not (5 > 4)\n",
    "(5 > 4) or (3 == 5)\n",
    "not ((5 > 4) or (3 == 5))\n",
    "(True and True) and (True == False)\n",
    "(not False) or (not True)\n",
    "Answer -\n",
    "False\n",
    "False\n",
    "True\n",
    "False\n",
    "False\n",
    "True"
   ]
  },
  {
   "cell_type": "code",
   "execution_count": null,
   "id": "77bce3b4",
   "metadata": {},
   "outputs": [],
   "source": [
    "Number 5 -\n",
    "\n",
    "Question -\n",
    "What are the six comparison operators?\n",
    "\n",
    "Answer -\n",
    "The six different types of reference operators are : ==, !=, <, >, <=, and >=."
   ]
  },
  {
   "cell_type": "code",
   "execution_count": null,
   "id": "20bef0a0",
   "metadata": {},
   "outputs": [],
   "source": [
    "Number 6 -\n",
    "\n",
    "Question -\n",
    "What is the difference between the equal to operator and the assignment operator?\n",
    "\n",
    "Answer -\n",
    "== is the equal to operator that compares two values and evaluates to a Boolean, while = is the assignment operator that stores a value in a variable"
   ]
  },
  {
   "cell_type": "code",
   "execution_count": 2,
   "id": "403d098a",
   "metadata": {},
   "outputs": [
    {
     "name": "stdout",
     "output_type": "stream",
     "text": [
      "spam\n"
     ]
    }
   ],
   "source": [
    "#Question -7\n",
    "#Identify the three blocks in this code:\n",
    "\n",
    "spam = 0\n",
    "if spam == 10:\n",
    "    print('eggs')\n",
    "    if spam > 5:\n",
    "        print('bacon')\n",
    "    else:\n",
    "        print('ham')\n",
    "    print('spam')\n",
    "print('spam')\n"
   ]
  },
  {
   "cell_type": "code",
   "execution_count": null,
   "id": "c57492e6",
   "metadata": {},
   "outputs": [],
   "source": [
    "Number 8 -\n",
    "\n",
    "Question -\n",
    "Explain what a condition is and where you would use one.\n",
    "\n",
    "Answer -\n",
    "A condition is an expression used in a flow control statement that evaluates to a Boolean value."
   ]
  },
  {
   "cell_type": "code",
   "execution_count": 3,
   "id": "35d9bf1e",
   "metadata": {},
   "outputs": [
    {
     "name": "stdout",
     "output_type": "stream",
     "text": [
      "Enter a number : 5\n",
      "Greetings!\n"
     ]
    }
   ],
   "source": [
    "#Number 9 -\n",
    "\n",
    "#Question -\n",
    "#Write code that prints Hello if 1 is stored in spam, prints Howdy if 2 is stored in spam, and prints Greetings! if anything else is stored in spam.\n",
    "\n",
    "#Answer -\n",
    "spam = int(input(\"Enter a number : \"))\n",
    "if spam == 1:\n",
    "    print('Hello')\n",
    "elif spam == 2:\n",
    "    print('Howdy')\n",
    "else:\n",
    "    print('Greetings!')"
   ]
  },
  {
   "cell_type": "code",
   "execution_count": null,
   "id": "10d054c5",
   "metadata": {},
   "outputs": [],
   "source": [
    "Number 10 -\n",
    "\n",
    "Question -\n",
    "What keys can you press if your program is stuck in an infinite loop?\n",
    "\n",
    "Answer -\n",
    "We need to press CTRL-C to stop a program if it has been stuck in an infinite loop."
   ]
  },
  {
   "cell_type": "code",
   "execution_count": null,
   "id": "3de87af7",
   "metadata": {},
   "outputs": [],
   "source": [
    "Number 11 -\n",
    "\n",
    "Question -\n",
    "What is the difference between break and continue?\n",
    "\n",
    "Answer -\n",
    "The break statement will move the execution outside and just after a loop. The continue statement will move the execution to the start of the loop."
   ]
  },
  {
   "cell_type": "code",
   "execution_count": null,
   "id": "2738ba94",
   "metadata": {},
   "outputs": [],
   "source": [
    "Number 12 -\n",
    "\n",
    "Question -\n",
    "What is the difference between range(10), range(0, 10), and range(0, 10, 1) in a for loop?\n",
    "\n",
    "Answer -\n",
    "They all do the same thing. The range(10) call ranges from 0 up to (but not including) 10, range(0, 10) explicitly tells the loop to start at 0, and range(0, 10, 1) explicitly tells the loop to increase the variable by 1 on each iteration."
   ]
  },
  {
   "cell_type": "code",
   "execution_count": 4,
   "id": "f745a04f",
   "metadata": {},
   "outputs": [
    {
     "name": "stdout",
     "output_type": "stream",
     "text": [
      "1\n",
      "2\n",
      "3\n",
      "4\n",
      "5\n",
      "6\n",
      "7\n",
      "8\n",
      "9\n",
      "10\n"
     ]
    }
   ],
   "source": [
    "#Number 13 -\n",
    "\n",
    "#Question -\n",
    "#Write a short program that prints the numbers 1 to 10 using a for loop. Then write an equivalent program that prints the numbers 1 to 10 using a while loop.\n",
    "\n",
    "#Answer -\n",
    "i = 1\n",
    "while i <= 10:\n",
    "    print(i)\n",
    "    i = i + 1\n"
   ]
  },
  {
   "cell_type": "code",
   "execution_count": null,
   "id": "ae605f53",
   "metadata": {},
   "outputs": [],
   "source": [
    "Number 14 -\n",
    "\n",
    "Question -\n",
    "If you had a bacon() function within a spam module, what would you call it after importing spam?\n",
    "\n",
    "Answer -\n",
    "This function can be called with spam.bacon()."
   ]
  }
 ],
 "metadata": {
  "kernelspec": {
   "display_name": "Python 3 (ipykernel)",
   "language": "python",
   "name": "python3"
  },
  "language_info": {
   "codemirror_mode": {
    "name": "ipython",
    "version": 3
   },
   "file_extension": ".py",
   "mimetype": "text/x-python",
   "name": "python",
   "nbconvert_exporter": "python",
   "pygments_lexer": "ipython3",
   "version": "3.9.13"
  }
 },
 "nbformat": 4,
 "nbformat_minor": 5
}

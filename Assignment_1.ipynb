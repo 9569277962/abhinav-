{
 "cells": [
  {
   "cell_type": "code",
   "execution_count": null,
   "id": "a9498c57",
   "metadata": {},
   "outputs": [],
   "source": [
    "Number 1 -\n",
    "\n",
    "Question -\n",
    "In the below elements which of them are values or an expression? eg:- values can be integer or string and expressions will be mathematical operators.\n",
    "\n",
    "'hello'\n",
    "-87.8\n",
    "/\n",
    "6\n",
    "Answer -\n",
    "Arithmatic Operator\n",
    "String Value\n",
    "Floating-point Value\n",
    "Arithmatic Operator\n",
    "Arithmatic Operator\n",
    "Arithmatic Operator\n",
    "Integer"
   ]
  },
  {
   "cell_type": "code",
   "execution_count": null,
   "id": "8cdb613c",
   "metadata": {},
   "outputs": [],
   "source": [
    "Number 2 -\n",
    "\n",
    "Question -\n",
    "What is the difference between string and variable?\n",
    "\n",
    "Answer -\n",
    "Variable - spam\n",
    "String - 'spam'\n",
    "Strings always start and end with quotes"
   ]
  },
  {
   "cell_type": "code",
   "execution_count": null,
   "id": "660fd5b6",
   "metadata": {},
   "outputs": [],
   "source": [
    "Number 3\n",
    "Question -\n",
    "Describe three different data types.\n",
    "\n",
    "Answer -\n",
    "Integers,\n",
    "floating-point numbers\n",
    "strings."
   ]
  },
  {
   "cell_type": "code",
   "execution_count": null,
   "id": "5a19107c",
   "metadata": {},
   "outputs": [],
   "source": [
    "Number 4\n",
    "Question -\n",
    "What is an expression made up of? What do all expressions do?\n",
    "\n",
    "Answer -\n",
    "We can say an expression is a combination of values, variables, operators There are three kinds of expressions: An arithmetic expression evaluates to a single arithmetic value. A character expression evaluates to a single value of type character. A logical or relational expression evaluates to a single logical value. All expressions evaluate (that is, reduce) to a single value."
   ]
  },
  {
   "cell_type": "code",
   "execution_count": null,
   "id": "165e5a67",
   "metadata": {},
   "outputs": [],
   "source": [
    "Number 5 -\n",
    "\n",
    "Question -\n",
    "This assignment statements, like spam = 10. What is the difference between an expression and a statement?\n",
    "\n",
    "Answer -\n",
    "An expression evaluates to a single value. A statement does not."
   ]
  },
  {
   "cell_type": "code",
   "execution_count": null,
   "id": "6679655a",
   "metadata": {},
   "outputs": [],
   "source": [
    "Number 6 -\n",
    "\n",
    "Question -\n",
    "After running the following code, what does the variable bacon contain?\n",
    "\n",
    "bacon = 22\n",
    "bacon + 1\n",
    "Answer -\n",
    "The bacon variable is set to 22. The bacon + 1 expression does not reassign the value in bacon (that would need an assignment statement: bacon = bacon + 1)\n",
    "\n"
   ]
  },
  {
   "cell_type": "code",
   "execution_count": null,
   "id": "9f204f55",
   "metadata": {},
   "outputs": [],
   "source": [
    "Number 7 -\n",
    "\n",
    "Question -\n",
    "What should the following two expressions evaluate to?\n",
    "\n",
    "'spam' + 'spamspam'\n",
    "'spam' * 3\n",
    "Answer -\n",
    "Both expressions evaluate to the string 'spamspamspam'"
   ]
  },
  {
   "cell_type": "code",
   "execution_count": null,
   "id": "fed01058",
   "metadata": {},
   "outputs": [],
   "source": [
    "Number 8 -\n",
    "\n",
    "Question -\n",
    "Why is it that eggs is a true variable name but 100 is not?\n",
    "\n",
    "Answer -\n",
    "Variable names cannot begin with a number."
   ]
  },
  {
   "cell_type": "code",
   "execution_count": null,
   "id": "c5be2012",
   "metadata": {},
   "outputs": [],
   "source": [
    "Question -9\n",
    "What three functions can be used to get the integer, floating-point number, or string version of a value?\n",
    "\n",
    "Answer -\n",
    "The int(), float(), and str() functions respectively can be used to convert a value to an integer, a floating-point number, or a string?"
   ]
  },
  {
   "cell_type": "code",
   "execution_count": null,
   "id": "bdbb7067",
   "metadata": {},
   "outputs": [],
   "source": [
    "Number 10 -\n",
    "\n",
    "Question -\n",
    "Why does this expression cause an error? How can you fix it?\n",
    "\n",
    "'I have eaten ' + 99 + ' burritos.'\n",
    "Answer -\n",
    "The expression causes an error because 99 is an integer, and only strings can be concatenated to other strings with the + operator. The correct way is I have eaten ' + str(99) + ' burritos.'."
   ]
  }
 ],
 "metadata": {
  "kernelspec": {
   "display_name": "Python 3 (ipykernel)",
   "language": "python",
   "name": "python3"
  },
  "language_info": {
   "codemirror_mode": {
    "name": "ipython",
    "version": 3
   },
   "file_extension": ".py",
   "mimetype": "text/x-python",
   "name": "python",
   "nbconvert_exporter": "python",
   "pygments_lexer": "ipython3",
   "version": "3.9.13"
  }
 },
 "nbformat": 4,
 "nbformat_minor": 5
}

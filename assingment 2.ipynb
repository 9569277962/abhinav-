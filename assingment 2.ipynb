{
 "cells": [
  {
   "cell_type": "code",
   "execution_count": 6,
   "id": "c46b9e74",
   "metadata": {},
   "outputs": [
    {
     "name": "stdout",
     "output_type": "stream",
     "text": [
      "enter the value of kilometer10\n",
      "the enter value in miles 6.21371\n"
     ]
    }
   ],
   "source": [
    "#answere1\n",
    "km=int(input(\"enter the value of kilometer\"))\n",
    "ratio=0.621371\n",
    "mi=km*ratio\n",
    "print(\"the enter value in miles\",mi)"
   ]
  },
  {
   "cell_type": "code",
   "execution_count": 8,
   "id": "87c90625",
   "metadata": {},
   "outputs": [
    {
     "name": "stdout",
     "output_type": "stream",
     "text": [
      "enter the celsius:37.5\n",
      "Fahrenheit 99.5\n"
     ]
    }
   ],
   "source": [
    "#answer2\n",
    "celsius=float(input(\"enter the celsius:\" ))\n",
    "fahrenheit=9/5*celsius+32\n",
    "print(\"Fahrenheit\",fahrenheit)"
   ]
  },
  {
   "cell_type": "code",
   "execution_count": 9,
   "id": "ab0faa89",
   "metadata": {},
   "outputs": [
    {
     "name": "stdout",
     "output_type": "stream",
     "text": [
      "enter year: 2022\n",
      "enter month2\n",
      "   February 2022\n",
      "Mo Tu We Th Fr Sa Su\n",
      "    1  2  3  4  5  6\n",
      " 7  8  9 10 11 12 13\n",
      "14 15 16 17 18 19 20\n",
      "21 22 23 24 25 26 27\n",
      "28\n",
      "\n"
     ]
    }
   ],
   "source": [
    "#answer 3\n",
    "import calendar\n",
    "year=int(input(\"enter year: \"))\n",
    "month=int(input(\"enter month\"))\n",
    "print(calendar.month(year,month))"
   ]
  },
  {
   "cell_type": "code",
   "execution_count": 1,
   "id": "67437757",
   "metadata": {},
   "outputs": [
    {
     "name": "stdout",
     "output_type": "stream",
     "text": [
      "enter a: 2\n",
      "enter b: 5\n",
      "enter c: 6\n",
      "no real roots are there\n"
     ]
    }
   ],
   "source": [
    "#answer4\n",
    "import math\n",
    "a=int(input(\"enter a: \"))\n",
    "b=int(input(\"enter b: \"))\n",
    "c=int(input(\"enter c: \"))\n",
    "d=(b**2)-(4*a*c)#discriment\n",
    "if d>0:\n",
    "    r1=(-b + math.sqrt(d)/(2*a))\n",
    "    r2=(-b - math.sqrt(d/2*a))\n",
    "    print(\"roots are real and unequal\")\n",
    "elif d==0:\n",
    "    r1=-b/(2*a)\n",
    "    print(\"roots are real and same\",r1)\n",
    "else:\n",
    "    print(\"no real roots are there\")\n",
    "    "
   ]
  },
  {
   "cell_type": "code",
   "execution_count": 2,
   "id": "47d824df",
   "metadata": {},
   "outputs": [
    {
     "name": "stdout",
     "output_type": "stream",
     "text": [
      "the value of x 6\n",
      "the value of y 5\n"
     ]
    }
   ],
   "source": [
    "#answer5\n",
    "x=5\n",
    "y=6\n",
    "x,y=y,x\n",
    "print(\"the value of x\", x)\n",
    "print(\"the value of y\", y)"
   ]
  }
 ],
 "metadata": {
  "kernelspec": {
   "display_name": "Python 3 (ipykernel)",
   "language": "python",
   "name": "python3"
  },
  "language_info": {
   "codemirror_mode": {
    "name": "ipython",
    "version": 3
   },
   "file_extension": ".py",
   "mimetype": "text/x-python",
   "name": "python",
   "nbconvert_exporter": "python",
   "pygments_lexer": "ipython3",
   "version": "3.9.7"
  }
 },
 "nbformat": 4,
 "nbformat_minor": 5
}

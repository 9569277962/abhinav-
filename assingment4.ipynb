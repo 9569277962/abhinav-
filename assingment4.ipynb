{
 "cells": [
  {
   "cell_type": "code",
   "execution_count": 18,
   "id": "0f2b9cb8",
   "metadata": {},
   "outputs": [
    {
     "name": "stdout",
     "output_type": "stream",
     "text": [
      "fact 10\n",
      "fact 90\n",
      "fact 720\n",
      "fact 5040\n",
      "fact 30240\n",
      "fact 151200\n",
      "fact 604800\n",
      "fact 1814400\n",
      "fact 3628800\n",
      "fact 3628800\n"
     ]
    }
   ],
   "source": [
    "#answer1\n",
    "n=10\n",
    "fact=1\n",
    "while(n>0):\n",
    "    fact=fact*n\n",
    "    n=n-1\n",
    "    print(\"fact\",fact)\n",
    "    "
   ]
  },
  {
   "cell_type": "code",
   "execution_count": 16,
   "id": "928b7acf",
   "metadata": {},
   "outputs": [
    {
     "name": "stdout",
     "output_type": "stream",
     "text": [
      "number10\n",
      "multiplication 10\n",
      "10 X 1 = 10\n",
      "10 X 2 = 20\n",
      "10 X 3 = 30\n",
      "10 X 4 = 40\n",
      "10 X 5 = 50\n",
      "10 X 6 = 60\n",
      "10 X 7 = 70\n",
      "10 X 8 = 80\n",
      "10 X 9 = 90\n",
      "10 X 10 = 100\n"
     ]
    }
   ],
   "source": [
    "n=int(input(\"number\"))\n",
    "print(\"multiplication\",n)\n",
    "for i in range(1,11):\n",
    "     print(n,\"X\", i,\"=\",n * i)"
   ]
  },
  {
   "cell_type": "code",
   "execution_count": 19,
   "id": "701dced2",
   "metadata": {},
   "outputs": [
    {
     "name": "stdout",
     "output_type": "stream",
     "text": [
      "0\n",
      "1\n",
      "1\n",
      "2\n",
      "3\n",
      "5\n",
      "8\n",
      "13\n",
      "21\n",
      "34\n"
     ]
    }
   ],
   "source": [
    "#answer3\n",
    "n=10\n",
    "first=0\n",
    "second=1\n",
    "for i in range(n):\n",
    "    print(first)\n",
    "    temp=first\n",
    "    first=second\n",
    "    second=temp+second\n"
   ]
  },
  {
   "cell_type": "code",
   "execution_count": 25,
   "id": "a55a9bd5",
   "metadata": {},
   "outputs": [
    {
     "name": "stdout",
     "output_type": "stream",
     "text": [
      "any number125\n",
      "this is not armstrong\n"
     ]
    }
   ],
   "source": [
    "#answer4\n",
    "i=int(input(\"any number\"))\n",
    "orign=i\n",
    "sum=0\n",
    "while(i>0):\n",
    "    sum=sum+(i%10)*(i%10)*(i%10)\n",
    "    i=i//10\n",
    "if orign==sum:\n",
    "    print(\"this is a armstrong\")\n",
    "else:\n",
    "    print(\"this is not armstrong\")\n",
    "    "
   ]
  },
  {
   "cell_type": "code",
   "execution_count": null,
   "id": "d66ee236",
   "metadata": {},
   "outputs": [],
   "source": [
    "#answer5\n",
    "lower= int(input(\"enter lower range\"))\n",
    "upper= int(input(\"enter upper range\"))\n",
    "for i in range(lower,upper+1):\n",
    "    sum=0\n",
    "    temp=i\n",
    "    while(temp>0):\n",
    "        digit=temp%10\n",
    "        sum=sum+digit**3\n",
    "        temp=temp//10\n",
    "        if i==sum:\n",
    "            print(i)"
   ]
  },
  {
   "cell_type": "code",
   "execution_count": 3,
   "id": "49e57960",
   "metadata": {},
   "outputs": [
    {
     "name": "stdout",
     "output_type": "stream",
     "text": [
      "enter lower range100\n",
      "enter upper range1000\n",
      "125\n",
      "153\n",
      "216\n",
      "370\n",
      "371\n",
      "407\n",
      "729\n"
     ]
    }
   ],
   "source": [
    "# answer5\n",
    "lower= int(input(\"enter lower range\"))\n",
    "upper= int(input(\"enter upper range\"))\n",
    "for i in range(lower,upper+1):\n",
    "    sum=0\n",
    "    temp=i\n",
    "    while temp>0:\n",
    "        digit=temp%10\n",
    "        sum+=digit**3\n",
    "        temp//=10\n",
    "        if i==sum:\n",
    "#            print(i)"
   ]
  },
  {
   "cell_type": "code",
   "execution_count": 14,
   "id": "14c3f269",
   "metadata": {},
   "outputs": [
    {
     "name": "stdout",
     "output_type": "stream",
     "text": [
      "enter maximum number12\n",
      "natural number 12\n",
      "1\n",
      "3\n",
      "6\n",
      "10\n",
      "15\n",
      "21\n",
      "28\n",
      "36\n",
      "45\n",
      "55\n",
      "66\n",
      "78\n"
     ]
    }
   ],
   "source": [
    "#answer 6\n",
    "n=int(input(\"enter maximum number\"))\n",
    "print(\"natural number\",n)\n",
    "sum=0\n",
    "for i in range(1,n+1):\n",
    "    sum=sum+i\n",
    "    print(sum)\n",
    "\n",
    "    \n",
    "        \n",
    "    "
   ]
  },
  {
   "cell_type": "code",
   "execution_count": null,
   "id": "d8a281ab",
   "metadata": {},
   "outputs": [],
   "source": []
  }
 ],
 "metadata": {
  "kernelspec": {
   "display_name": "Python 3 (ipykernel)",
   "language": "python",
   "name": "python3"
  },
  "language_info": {
   "codemirror_mode": {
    "name": "ipython",
    "version": 3
   },
   "file_extension": ".py",
   "mimetype": "text/x-python",
   "name": "python",
   "nbconvert_exporter": "python",
   "pygments_lexer": "ipython3",
   "version": "3.9.7"
  }
 },
 "nbformat": 4,
 "nbformat_minor": 5
}
